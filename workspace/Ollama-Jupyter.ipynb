{
 "cells": [
  {
   "cell_type": "markdown",
   "id": "475ad4a7-cae8-4e90-a2a9-212f907adaf2",
   "metadata": {},
   "source": [
    "Documentation:\n",
    "https://github.com/ollama/ollama/blob/main/docs/api.md"
   ]
  },
  {
   "cell_type": "code",
   "execution_count": 1,
   "id": "6b0bc2ce-25ed-4bd7-8631-d30a5b452d39",
   "metadata": {},
   "outputs": [
    {
     "data": {
      "text/plain": [
       "' Yes, the Financial Crisis of 2008 was a severe worldwide economic recession that occurred in the United States and spread to most other sectors of the global economy. It is considered by many economists as the worst international depression since the Great Depression (1929). The crisis began with high-risk mortgage lending practices, particularly subprime mortgages where borrowers had a higher likelihood of defaulting on their loans due to lower creditworthiness.\\n\\nThe housing market boom led to an overextension in the financial sector as banks and investment firms invested heavily in real estate-backed securities (REMICs) such as mortgage-backed bonds, CDOs etc., that were rated AAA by credit rating agencies. These instruments allowed for riskier bets on the housing market to be considered safe investments due to their supposedly low correlation with other risky assets like stocks and commodities. \\n\\nAs many borrowers started defaulting, losses in these financial products increased rapidly leading banks that invested heavily into them began to fail or were bailed out by governments (like Bear Stearns). The crisis quickly spread across the world as global bank investment portfolios held significant shares of American real estate mortgage-backed securities.\\n\\nThe U.S Federal Reserve responded with a dramatic easing in monetary policy to stop the downward spiral, cutting interest rates and later quantitative easing (QE). The crisis ended when several large financial institutions were bailed out by their respective governments or privatized under government control as Lehman Brothers collapsed without rescue.\\n\\nThe aftermath of this economic collapse led to significant regulatory changes globally in an attempt to prevent a similar event from happening again, such as the Dodd-Frank Wall Street Reform and Consumer Protection Act passed by Congress and President Obama on July 21, 2010.'"
      ]
     },
     "execution_count": 1,
     "metadata": {},
     "output_type": "execute_result"
    }
   ],
   "source": [
    "import requests\n",
    "import json\n",
    "\n",
    "# Model name(to be potentially pulled) and prompt\n",
    "model_name = \"phi3\"\n",
    "prompt = \"Do you know what happened during financial crisis of 2008?\"\n",
    "\n",
    "## Pulling the model from Ollama API\n",
    "_ = requests.post('http://ollama:11434/api/pull', json={\n",
    "    \"name\": model_name\n",
    "})\n",
    "\n",
    "## Post request to the API for the response\n",
    "response = requests.post('http://ollama:11434/api/generate', json={\n",
    "    \"model\": model_name,\n",
    "    \"prompt\": prompt,\n",
    "    \"stream\": False\n",
    "}).json()\n",
    "response[\"response\"]"
   ]
  }
 ],
 "metadata": {
  "kernelspec": {
   "display_name": "Python 3 (ipykernel)",
   "language": "python",
   "name": "python3"
  },
  "language_info": {
   "codemirror_mode": {
    "name": "ipython",
    "version": 3
   },
   "file_extension": ".py",
   "mimetype": "text/x-python",
   "name": "python",
   "nbconvert_exporter": "python",
   "pygments_lexer": "ipython3",
   "version": "3.8.17"
  }
 },
 "nbformat": 4,
 "nbformat_minor": 5
}
